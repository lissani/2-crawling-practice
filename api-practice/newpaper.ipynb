{
 "cells": [
  {
   "cell_type": "markdown",
   "metadata": {},
   "source": [
    "# 신문기사 데이터 추출 및 CSV 저장\n",
    "이 노트북에서는 GDELT API를 사용하여 특정 키워드에 맞는 신문기사를 추출하고, Newspaper3k 라이브러리를 사용해 각 기사의 본문을 파싱한 후, 이를 CSV 파일로 저장하는 방법을 설명합니다."
   ]
  },
  {
   "cell_type": "markdown",
   "metadata": {},
   "source": [
    "### 1. 필요한 라이브러리 설치 및 임포트\n",
    "\n",
    "이 단계에서는 필요한 라이브러리들을 설치합니다. gdeltdoc는 GDELT API를 사용하여 기사를 검색할 때 필요하고, newspaper3k는 각 기사에서 본문을 추출할 때 사용됩니다. 또한, pandas 라이브러리를 사용해 데이터를 쉽게 다룰 수 있습니다."
   ]
  },
  {
   "cell_type": "code",
   "execution_count": null,
   "metadata": {},
   "outputs": [],
   "source": [
    "!pip install gdeltdoc\n",
    "!pip install newspaper3k\n",
    "!pip install lxml[html_clean]\n",
    "!pip install pandas"
   ]
  },
  {
   "cell_type": "markdown",
   "metadata": {},
   "source": [
    "### 2. 라이브러리 임포트\n",
    "필요한 라이브러리를 코드에 임포트합니다. "
   ]
  },
  {
   "cell_type": "code",
   "execution_count": 2,
   "metadata": {},
   "outputs": [],
   "source": [
    "from gdeltdoc import GdeltDoc, Filters\n",
    "from newspaper import Article\n",
    "import pandas as pd"
   ]
  },
  {
   "cell_type": "markdown",
   "metadata": {},
   "source": [
    "### 3. GDELT API 필터 설정\n",
    "\n",
    "GDELT API를 사용하여 원하는 기사를 추출하기 위한 필터를 설정합니다. Filters 클래스를 사용하여 날짜, 키워드, 도메인 등 다양한 조건을 지정할 수 있습니다."
   ]
  },
  {
   "cell_type": "code",
   "execution_count": 3,
   "metadata": {},
   "outputs": [],
   "source": [
    "f = Filters(\n",
    "    keyword = \"Microsoft\",  # 키워드: Microsoft 관련 기사만 추출\n",
    "    start_date = \"2024-05-01\",  # 시작 날짜\n",
    "    end_date = \"2024-05-25\",  # 종료 날짜\n",
    "    num_records=10,  # 가져올 기사의 수\n",
    "    domain =\"nytimes.com\",  # 특정 도메인(여기서는 NYTimes)\n",
    "    country=\"US\",  # 국가 설정 (US)\n",
    ")"
   ]
  },
  {
   "cell_type": "markdown",
   "metadata": {},
   "source": [
    "### 4. GDELT 데이터 검색\n",
    "\n",
    "설정한 필터에 맞는 기사를 GDELT API를 통해 검색하여 결과를 pandas DataFrame으로 변환합니다."
   ]
  },
  {
   "cell_type": "code",
   "execution_count": null,
   "metadata": {},
   "outputs": [],
   "source": [
    "# GDELT 객체 생성\n",
    "gd = GdeltDoc()\n",
    "\n",
    "# 필터에 맞는 기사 검색\n",
    "articles = gd.article_search(f)\n",
    "\n",
    "# 기사의 URL과 제목을 포함한 DataFrame 생성\n",
    "articles_data = []\n",
    "for index, row in articles.iterrows():\n",
    "    url = row['url']\n",
    "    title = row['title']\n",
    "    \n",
    "    # Newspaper3k 라이브러리를 사용하여 기사 본문 추출\n",
    "    article = Article(url)\n",
    "    article.download()\n",
    "    article.parse()\n",
    "    text = article.text  # 기사 본문\n",
    "    \n",
    "    # DataFrame에 추가\n",
    "    articles_data.append({\n",
    "        \"title\": title,\n",
    "        \"url\": url,\n",
    "        \"text\": text\n",
    "    })\n",
    "\n",
    "# DataFrame 생성\n",
    "articles_df = pd.DataFrame(articles_data)\n",
    "\n",
    "# 결과 출력\n",
    "articles_df.head()  # 첫 5개의 기사 출력"
   ]
  },
  {
   "cell_type": "markdown",
   "metadata": {},
   "source": [
    "### 5. CSV 파일로 저장\n",
    "\n",
    "최종적으로 추출한 기사 데이터를 pandas DataFrame으로 저장한 후, 이를 CSV 파일로 저장합니다."
   ]
  },
  {
   "cell_type": "code",
   "execution_count": 5,
   "metadata": {},
   "outputs": [],
   "source": [
    "# CSV 파일로 저장\n",
    "articles_df.to_csv('articles_data.csv', index=False)"
   ]
  }
 ],
 "metadata": {
  "kernelspec": {
   "display_name": "myenv",
   "language": "python",
   "name": "python3"
  },
  "language_info": {
   "codemirror_mode": {
    "name": "ipython",
    "version": 3
   },
   "file_extension": ".py",
   "mimetype": "text/x-python",
   "name": "python",
   "nbconvert_exporter": "python",
   "pygments_lexer": "ipython3",
   "version": "3.12.9"
  }
 },
 "nbformat": 4,
 "nbformat_minor": 2
}
