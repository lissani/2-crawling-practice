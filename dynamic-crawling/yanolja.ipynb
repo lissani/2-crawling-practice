{
 "cells": [
  {
   "cell_type": "markdown",
   "metadata": {},
   "source": [
    "# Yanolja 리뷰 크롤링 및 분석\n",
    "\n",
    "이번 노트북에서는 Selenium을 사용하여 Yanolja의 호텔 리뷰 페이지에서 데이터를 크롤링하고, 수집한 데이터에 대해 분석을 진행합니다. 이 과정에서는 웹페이지 로드, 데이터 추출, 텍스트 처리 및 분석 결과를 Excel 파일로 저장하는 작업을 포함합니다."
   ]
  },
  {
   "cell_type": "markdown",
   "metadata": {},
   "source": [
    "### 1단계: Selenium으로 웹페이지 로드\n",
    "\n",
    "Selenium을 사용하여 Yanolja 리뷰 페이지를 로드하고, 스크롤을 내려서 더 많은 데이터를 가져옵니다."
   ]
  },
  {
   "cell_type": "code",
   "execution_count": null,
   "metadata": {},
   "outputs": [],
   "source": [
    "!pip install selenium\n",
    "!pip install bs4\n",
    "!pip install pandas\n",
    "!pip install openpyxl"
   ]
  },
  {
   "cell_type": "code",
   "execution_count": null,
   "metadata": {},
   "outputs": [],
   "source": [
    "from selenium import webdriver\n",
    "import time\n",
    "\n",
    "# Selenium 드라이버 설정 (Chrome 사용)\n",
    "# driver = \n",
    "\n",
    "# Yanolja 리뷰 페이지로 이동\n",
    "url = 'https://www.yanolja.com/reviews/domestic/10041505'\n",
    "######## your code here ########\n",
    "\n",
    "# 페이지 로딩을 위해 대기\n",
    "time.sleep(3)\n",
    "\n",
    "# 스크롤 설정: 페이지 하단까지 스크롤을 내리기\n",
    "scroll_count = 10  # 스크롤 횟수 설정\n",
    "for _ in range(scroll_count):\n",
    "    ######## your code here ########\n",
    "    time.sleep(1)  # 스크롤 이후 대기"
   ]
  },
  {
   "cell_type": "markdown",
   "metadata": {},
   "source": [
    "### 2단계: 페이지 소스 가져오기\n",
    "웹페이지의 HTML 소스를 가져와서 BeautifulSoup을 사용해 데이터를 파싱합니다."
   ]
  },
  {
   "cell_type": "code",
   "execution_count": 4,
   "metadata": {},
   "outputs": [],
   "source": [
    "from bs4 import BeautifulSoup\n",
    "\n",
    "# 웹페이지 소스 가져오기\n",
    "page_source = driver.page_source\n",
    "\n",
    "# BeautifulSoup를 사용하여 HTML 파싱\n",
    "soup = BeautifulSoup(page_source, 'html.parser')"
   ]
  },
  {
   "cell_type": "markdown",
   "metadata": {},
   "source": [
    "### 3단계: 리뷰 텍스트 추출\n",
    "리뷰 텍스트를 추출하고 불필요한 공백이나 줄 바꿈을 제거합니다."
   ]
  },
  {
   "cell_type": "code",
   "execution_count": null,
   "metadata": {},
   "outputs": [],
   "source": [
    "# 리뷰 텍스트 추출\n",
    "################################\n",
    "# reviews_class = \n",
    "################################\n",
    "reviews = []\n",
    "\n",
    "# 각 리뷰 텍스트 정리 후 추가\n",
    "for review in reviews_class:\n",
    "    cleaned_text = review.get_text(strip=True).replace('\\r', '').replace('\\n', '')\n",
    "    reviews.append(cleaned_text)\n",
    "\n",
    "reviews"
   ]
  },
  {
   "cell_type": "markdown",
   "metadata": {},
   "source": [
    "### 4단계: 별점 데이터 추출\n",
    "HTML에서 별점 데이터를 추출하고, 각 리뷰의 별점을 계산합니다."
   ]
  },
  {
   "cell_type": "code",
   "execution_count": null,
   "metadata": {},
   "outputs": [],
   "source": [
    "# 별점 추출\n",
    "ratings = []\n",
    "################################\n",
    "# rating_containers = \n",
    "################################\n",
    "\n",
    "# 각 리뷰별로 별점 계산\n",
    "for container in rating_containers:\n",
    "    ################################\n",
    "    ######## your code here ########\n",
    "    ################################\n",
    "    \n",
    "    ratings.append(rating)\n",
    "\n",
    "ratings"
   ]
  },
  {
   "cell_type": "markdown",
   "metadata": {},
   "source": [
    "### 5단계: 데이터 정리 및 DataFrame으로 변환\n",
    "수집된 데이터를 Pandas DataFrame으로 변환하여 후속 분석을 용이하게 만듭니다."
   ]
  },
  {
   "cell_type": "code",
   "execution_count": null,
   "metadata": {},
   "outputs": [],
   "source": [
    "import pandas as pd\n",
    "\n",
    "# 별점과 리뷰를 결합하여 리스트 생성\n",
    "data = list(zip(ratings, reviews))\n",
    "\n",
    "# DataFrame으로 변환\n",
    "df_reviews = pd.DataFrame(data, columns=['Rating', 'Review'])\n",
    "df_reviews"
   ]
  },
  {
   "cell_type": "markdown",
   "metadata": {},
   "source": [
    "### 6단계: 리뷰 분석 - 평균 별점 계산\n",
    "수집된 리뷰에서 평균 별점을 계산합니다."
   ]
  },
  {
   "cell_type": "code",
   "execution_count": null,
   "metadata": {},
   "outputs": [],
   "source": [
    "# 평균 별점 계산\n",
    "# average_rating = "
   ]
  },
  {
   "cell_type": "markdown",
   "metadata": {},
   "source": [
    "### 7단계: 자주 등장하는 단어 추출\n",
    "리뷰 텍스트에서 자주 등장하는 단어를 추출하고, 불용어를 제거하여 분석합니다."
   ]
  },
  {
   "cell_type": "code",
   "execution_count": null,
   "metadata": {},
   "outputs": [],
   "source": [
    "from collections import Counter\n",
    "import re\n",
    "\n",
    "# 불용어 리스트 (한국어)\n",
    "korean_stopwords = set(['이', '그', '저', '것', '들', '다', '을', '를', '에', '의', '가', '이', '는', '해', '한', '하', '하고', '에서', '에게', '과', '와', '너무', '잘', '또','좀', '호텔', '아주', '진짜', '정말'])\n",
    "\n",
    "# 모든 리뷰를 하나의 문자열로 결합\n",
    "# all_reviews_text = \n",
    "\n",
    "# 단어 추출 (특수문자 제거)\n",
    "# words = \n",
    "\n",
    "# 불용어 제거\n",
    "# filtered_words = \n",
    "\n",
    "# 단어 빈도 계산\n",
    "word_counts = Counter(filtered_words)\n",
    "\n",
    "# 자주 등장하는 상위 15개 단어 추출\n",
    "common_words = word_counts.most_common(15)"
   ]
  },
  {
   "cell_type": "markdown",
   "metadata": {},
   "source": [
    "### 8단계: 분석 결과 요약\n",
    "평균 별점과 자주 등장하는 단어를 DataFrame으로 만들어 최종 분석 결과를 요약합니다."
   ]
  },
  {
   "cell_type": "code",
   "execution_count": null,
   "metadata": {},
   "outputs": [],
   "source": [
    "# 분석 결과 요약\n",
    "summary_df = pd.DataFrame({\n",
    "    'Average Rating': [average_rating],\n",
    "    'Common Words': [', '.join([f\"{word}({count})\" for word, count in common_words])]\n",
    "})\n",
    "\n",
    "# 최종 DataFrame 결합\n",
    "final_df = pd.concat([df_reviews, summary_df], ignore_index=True)\n",
    "final_df"
   ]
  },
  {
   "cell_type": "markdown",
   "metadata": {},
   "source": [
    "### 9단계: Excel 파일로 저장\n",
    "최종 결과를 Excel 파일로 저장합니다."
   ]
  },
  {
   "cell_type": "code",
   "execution_count": null,
   "metadata": {},
   "outputs": [],
   "source": [
    "# Excel 파일로 저장\n",
    "######## your code here ########"
   ]
  },
  {
   "cell_type": "markdown",
   "metadata": {},
   "source": [
    "### 10단계: 드라이버 종료\n",
    "크롤링이 끝난 후, Selenium 드라이버를 종료합니다."
   ]
  },
  {
   "cell_type": "code",
   "execution_count": 18,
   "metadata": {},
   "outputs": [],
   "source": [
    "# 드라이버 종료\n",
    "driver.quit()"
   ]
  }
 ],
 "metadata": {
  "kernelspec": {
   "display_name": "myenv",
   "language": "python",
   "name": "python3"
  },
  "language_info": {
   "codemirror_mode": {
    "name": "ipython",
    "version": 3
   },
   "file_extension": ".py",
   "mimetype": "text/x-python",
   "name": "python",
   "nbconvert_exporter": "python",
   "pygments_lexer": "ipython3",
   "version": "3.12.9"
  }
 },
 "nbformat": 4,
 "nbformat_minor": 2
}
